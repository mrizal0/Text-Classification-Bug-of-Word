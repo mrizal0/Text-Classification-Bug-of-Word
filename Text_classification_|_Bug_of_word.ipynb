{
  "nbformat": 4,
  "nbformat_minor": 0,
  "metadata": {
    "colab": {
      "provenance": [],
      "include_colab_link": true
    },
    "kernelspec": {
      "name": "python3",
      "display_name": "Python 3"
    },
    "language_info": {
      "name": "python"
    }
  },
  "cells": [
    {
      "cell_type": "markdown",
      "metadata": {
        "id": "view-in-github",
        "colab_type": "text"
      },
      "source": [
        "<a href=\"https://colab.research.google.com/github/mrizal0/Text-Classification-Bug-of-Word/blob/main/Text_classification_%7C_Bug_of_word.ipynb\" target=\"_parent\"><img src=\"https://colab.research.google.com/assets/colab-badge.svg\" alt=\"Open In Colab\"/></a>"
      ]
    },
    {
      "cell_type": "markdown",
      "source": [
        "#Import Library"
      ],
      "metadata": {
        "id": "lJuwPRz_9mpw"
      }
    },
    {
      "cell_type": "code",
      "execution_count": null,
      "metadata": {
        "id": "GWDPp3sugdOz"
      },
      "outputs": [],
      "source": [
        "from sklearn.feature_extraction.text import CountVectorizer\n",
        "from sklearn.model_selection import train_test_split\n",
        "from sklearn.linear_model import LogisticRegression\n",
        "from sklearn.pipeline import Pipeline"
      ]
    },
    {
      "cell_type": "markdown",
      "source": [
        "#Dictionary"
      ],
      "metadata": {
        "id": "DwO-LJ2IgM8J"
      }
    },
    {
      "cell_type": "markdown",
      "source": [
        "**Dictionary:** Kamus Python terdiri dari pasangan kunci-nilai. Setiap kunci harus unik dan dapat digunakan untuk mengakses nilai yang terkait. Dalam contoh di atas, kunci-kunci adalah 'Kesehatan', 'Olahraga', dan 'Keuangan'."
      ],
      "metadata": {
        "id": "oLsPLri0gCSL"
      }
    },
    {
      "cell_type": "code",
      "source": [
        "data = {\n",
        "    'Kesehatan': [\n",
        "        \"Makan sayur dan buah-buahan baik untuk kesehatan.\",\n",
        "        \"Olahraga secara teratur dapat meningkatkan kesehatan jantung.\",\n",
        "        \"Kesehatan mental juga penting untuk dijaga.\"\n",
        "    ],\n",
        "    'Olahraga': [\n",
        "        \"Cristiano Ronaldo mencetak gol dalam pertandingan sepak bola.\",\n",
        "        \"Olahraga lari maraton butuh persiapan yang matang.\",\n",
        "        \"Tim nasional basket memenangkan kejuaraan dunia.\"\n",
        "    ],\n",
        "    'Keuangan': [\n",
        "        \"Investasi di pasar saham dapat memberikan keuntungan.\",\n",
        "        \"Mengatur keuangan dengan baik adalah kunci kesuksesan finansial.\",\n",
        "        \"Pasar properti sedang mengalami kenaikan.\"\n",
        "    ]\n",
        "}"
      ],
      "metadata": {
        "id": "4es5DwpVqqQd"
      },
      "execution_count": null,
      "outputs": []
    },
    {
      "cell_type": "markdown",
      "source": [
        "# Pipeline , split , train, and testing"
      ],
      "metadata": {
        "id": "2fJ_t0pkgjdS"
      }
    },
    {
      "cell_type": "markdown",
      "source": [
        "**Pipeline:** metode untuk menggabungkan serangkaian operasi menjadi satu proses yang dapat dijalankan secara bertahap. Ini berguna untuk mempersingkat dan mempermudah kode, serta mencegah kesalahan yang mungkin terjadi akibat menggabungkan banyak langkah manual.\n",
        "\n",
        "**Split Data untuk Training dan Testing:**\n",
        "\"train_test_split\": Fungsi dari sklearn.model_selection ini membagi data menjadi dua bagian: training dan testing.\n",
        "X_train dan X_test: Masing-masing menyimpan data teks yang akan digunakan untuk pelatihan (training) dan pengujian (testing).\n",
        "y_train dan y_test: Masing-masing menyimpan label yang sesuai untuk data pelatihan dan pengujian."
      ],
      "metadata": {
        "id": "nAI3e9qMgwcn"
      }
    },
    {
      "cell_type": "code",
      "source": [
        "pipeline = Pipeline([\n",
        "    (\"vectorizer\", CountVectorizer(lowercase=True, stop_words='english')),\n",
        "    (\"classifier\", LogisticRegression())\n",
        "])\n",
        "\n",
        "# Menyiapkan data dan label\n",
        "texts = []\n",
        "labels = []\n",
        "for topic, sentences in data.items():\n",
        "    texts.extend(sentences)\n",
        "    labels.extend([topic] * len(sentences))\n",
        "\n",
        "# Split data untuk training dan testing\n",
        "X_train, X_test, y_train, y_test = train_test_split(texts, labels, test_size=0.3, random_state=42)"
      ],
      "metadata": {
        "id": "fz9AKYqHqu11"
      },
      "execution_count": null,
      "outputs": []
    },
    {
      "cell_type": "markdown",
      "source": [
        "Melakukan training data dengan metode pipline"
      ],
      "metadata": {
        "id": "JipysKKSSCEo"
      }
    },
    {
      "cell_type": "code",
      "source": [
        "pipeline.fit(X_train, y_train)"
      ],
      "metadata": {
        "colab": {
          "base_uri": "https://localhost:8080/",
          "height": 126
        },
        "id": "aDACxTqVq4vP",
        "outputId": "684f8e2e-6819-4526-d685-cff6f4bb9921"
      },
      "execution_count": null,
      "outputs": [
        {
          "output_type": "execute_result",
          "data": {
            "text/plain": [
              "Pipeline(steps=[('vectorizer', CountVectorizer(stop_words='english')),\n",
              "                ('classifier', LogisticRegression())])"
            ],
            "text/html": [
              "<style>#sk-container-id-1 {color: black;background-color: white;}#sk-container-id-1 pre{padding: 0;}#sk-container-id-1 div.sk-toggleable {background-color: white;}#sk-container-id-1 label.sk-toggleable__label {cursor: pointer;display: block;width: 100%;margin-bottom: 0;padding: 0.3em;box-sizing: border-box;text-align: center;}#sk-container-id-1 label.sk-toggleable__label-arrow:before {content: \"▸\";float: left;margin-right: 0.25em;color: #696969;}#sk-container-id-1 label.sk-toggleable__label-arrow:hover:before {color: black;}#sk-container-id-1 div.sk-estimator:hover label.sk-toggleable__label-arrow:before {color: black;}#sk-container-id-1 div.sk-toggleable__content {max-height: 0;max-width: 0;overflow: hidden;text-align: left;background-color: #f0f8ff;}#sk-container-id-1 div.sk-toggleable__content pre {margin: 0.2em;color: black;border-radius: 0.25em;background-color: #f0f8ff;}#sk-container-id-1 input.sk-toggleable__control:checked~div.sk-toggleable__content {max-height: 200px;max-width: 100%;overflow: auto;}#sk-container-id-1 input.sk-toggleable__control:checked~label.sk-toggleable__label-arrow:before {content: \"▾\";}#sk-container-id-1 div.sk-estimator input.sk-toggleable__control:checked~label.sk-toggleable__label {background-color: #d4ebff;}#sk-container-id-1 div.sk-label input.sk-toggleable__control:checked~label.sk-toggleable__label {background-color: #d4ebff;}#sk-container-id-1 input.sk-hidden--visually {border: 0;clip: rect(1px 1px 1px 1px);clip: rect(1px, 1px, 1px, 1px);height: 1px;margin: -1px;overflow: hidden;padding: 0;position: absolute;width: 1px;}#sk-container-id-1 div.sk-estimator {font-family: monospace;background-color: #f0f8ff;border: 1px dotted black;border-radius: 0.25em;box-sizing: border-box;margin-bottom: 0.5em;}#sk-container-id-1 div.sk-estimator:hover {background-color: #d4ebff;}#sk-container-id-1 div.sk-parallel-item::after {content: \"\";width: 100%;border-bottom: 1px solid gray;flex-grow: 1;}#sk-container-id-1 div.sk-label:hover label.sk-toggleable__label {background-color: #d4ebff;}#sk-container-id-1 div.sk-serial::before {content: \"\";position: absolute;border-left: 1px solid gray;box-sizing: border-box;top: 0;bottom: 0;left: 50%;z-index: 0;}#sk-container-id-1 div.sk-serial {display: flex;flex-direction: column;align-items: center;background-color: white;padding-right: 0.2em;padding-left: 0.2em;position: relative;}#sk-container-id-1 div.sk-item {position: relative;z-index: 1;}#sk-container-id-1 div.sk-parallel {display: flex;align-items: stretch;justify-content: center;background-color: white;position: relative;}#sk-container-id-1 div.sk-item::before, #sk-container-id-1 div.sk-parallel-item::before {content: \"\";position: absolute;border-left: 1px solid gray;box-sizing: border-box;top: 0;bottom: 0;left: 50%;z-index: -1;}#sk-container-id-1 div.sk-parallel-item {display: flex;flex-direction: column;z-index: 1;position: relative;background-color: white;}#sk-container-id-1 div.sk-parallel-item:first-child::after {align-self: flex-end;width: 50%;}#sk-container-id-1 div.sk-parallel-item:last-child::after {align-self: flex-start;width: 50%;}#sk-container-id-1 div.sk-parallel-item:only-child::after {width: 0;}#sk-container-id-1 div.sk-dashed-wrapped {border: 1px dashed gray;margin: 0 0.4em 0.5em 0.4em;box-sizing: border-box;padding-bottom: 0.4em;background-color: white;}#sk-container-id-1 div.sk-label label {font-family: monospace;font-weight: bold;display: inline-block;line-height: 1.2em;}#sk-container-id-1 div.sk-label-container {text-align: center;}#sk-container-id-1 div.sk-container {/* jupyter's `normalize.less` sets `[hidden] { display: none; }` but bootstrap.min.css set `[hidden] { display: none !important; }` so we also need the `!important` here to be able to override the default hidden behavior on the sphinx rendered scikit-learn.org. See: https://github.com/scikit-learn/scikit-learn/issues/21755 */display: inline-block !important;position: relative;}#sk-container-id-1 div.sk-text-repr-fallback {display: none;}</style><div id=\"sk-container-id-1\" class=\"sk-top-container\"><div class=\"sk-text-repr-fallback\"><pre>Pipeline(steps=[(&#x27;vectorizer&#x27;, CountVectorizer(stop_words=&#x27;english&#x27;)),\n",
              "                (&#x27;classifier&#x27;, LogisticRegression())])</pre><b>In a Jupyter environment, please rerun this cell to show the HTML representation or trust the notebook. <br />On GitHub, the HTML representation is unable to render, please try loading this page with nbviewer.org.</b></div><div class=\"sk-container\" hidden><div class=\"sk-item sk-dashed-wrapped\"><div class=\"sk-label-container\"><div class=\"sk-label sk-toggleable\"><input class=\"sk-toggleable__control sk-hidden--visually\" id=\"sk-estimator-id-1\" type=\"checkbox\" ><label for=\"sk-estimator-id-1\" class=\"sk-toggleable__label sk-toggleable__label-arrow\">Pipeline</label><div class=\"sk-toggleable__content\"><pre>Pipeline(steps=[(&#x27;vectorizer&#x27;, CountVectorizer(stop_words=&#x27;english&#x27;)),\n",
              "                (&#x27;classifier&#x27;, LogisticRegression())])</pre></div></div></div><div class=\"sk-serial\"><div class=\"sk-item\"><div class=\"sk-estimator sk-toggleable\"><input class=\"sk-toggleable__control sk-hidden--visually\" id=\"sk-estimator-id-2\" type=\"checkbox\" ><label for=\"sk-estimator-id-2\" class=\"sk-toggleable__label sk-toggleable__label-arrow\">CountVectorizer</label><div class=\"sk-toggleable__content\"><pre>CountVectorizer(stop_words=&#x27;english&#x27;)</pre></div></div></div><div class=\"sk-item\"><div class=\"sk-estimator sk-toggleable\"><input class=\"sk-toggleable__control sk-hidden--visually\" id=\"sk-estimator-id-3\" type=\"checkbox\" ><label for=\"sk-estimator-id-3\" class=\"sk-toggleable__label sk-toggleable__label-arrow\">LogisticRegression</label><div class=\"sk-toggleable__content\"><pre>LogisticRegression()</pre></div></div></div></div></div></div></div>"
            ]
          },
          "metadata": {},
          "execution_count": 18
        }
      ]
    },
    {
      "cell_type": "markdown",
      "source": [
        "# Topic classification predict"
      ],
      "metadata": {
        "id": "O9oDlUkyhJm5"
      }
    },
    {
      "cell_type": "markdown",
      "source": [
        "**Mendefinisikan teks baru:**\n",
        "new_text: Ini adalah teks baru yang akan diprediksi topiknya. Dalam contoh ini, teks tersebut berisi berita tentang Cristiano Ronaldo yang mencetak gol dalam pertandingan sepak bola.\n",
        "\n",
        "**Prediksi topik dengan pipeline:**\n",
        "pipeline.predict([new_text]): Ini adalah perintah untuk melakukan prediksi menggunakan pipeline yang telah didefinisikan sebelumnya.\n",
        "Pipeline ini mencakup langkah-langkah untuk memproses teks (vektorisasi) dan model klasifikasi (Logistic Regression).\n",
        "Metode predict menerima data dalam bentuk list (oleh karena itu, teks baru ditempatkan dalam tanda kurung siku), dan mengembalikan hasil prediksi.\n",
        "[0]: Karena predict mengembalikan list hasil prediksi, penambahan [0] mengambil prediksi pertama dari daftar tersebut.\n",
        "Hasil prediksi ini adalah topik atau kategori yang paling mungkin sesuai dengan teks baru.\n",
        "\n",
        "**Menampilkan hasil prediksi:**\n",
        "print(\"Topik yang diprediksi:\", predicted_topic): Ini menampilkan hasil prediksi topik ke layar.\n",
        "Dalam contoh ini, topik yang diprediksi bisa saja 'Olahraga', 'Kesehatan', atau 'Keuangan', tergantung pada bagaimana pipeline dilatih sebelumnya. Dalam konteks ini, topik yang paling mungkin adalah 'Olahraga'."
      ],
      "metadata": {
        "id": "KDEmDy18hitu"
      }
    },
    {
      "cell_type": "code",
      "source": [
        "new_text = \"Cristiano Ronaldo came off the bench to earn Manchester United a hard-fought 2-1 victory at Everton in the Premier League on Sunday, taking his career goal tally to 700 in the process.\"\n",
        "\n",
        "# Prediksi topik\n",
        "predicted_topic = pipeline.predict([new_text])[0]\n",
        "\n",
        "print(\"Topik yang diprediksi:\", predicted_topic)"
      ],
      "metadata": {
        "colab": {
          "base_uri": "https://localhost:8080/"
        },
        "id": "q41hiYJsq_I8",
        "outputId": "b5276a55-0e3b-4587-b443-0169888ab689"
      },
      "execution_count": null,
      "outputs": [
        {
          "output_type": "stream",
          "name": "stdout",
          "text": [
            "Topik yang diprediksi: Olahraga\n"
          ]
        }
      ]
    }
  ]
}